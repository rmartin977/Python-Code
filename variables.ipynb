{
  "nbformat": 4,
  "nbformat_minor": 0,
  "metadata": {
    "kernelspec": {
      "display_name": "Python 3",
      "language": "python",
      "name": "python3"
    },
    "language_info": {
      "codemirror_mode": {
        "name": "ipython",
        "version": 3
      },
      "file_extension": ".py",
      "mimetype": "text/x-python",
      "name": "python",
      "nbconvert_exporter": "python",
      "pygments_lexer": "ipython3",
      "version": "3.7.3"
    },
    "colab": {
      "name": "variables.ipynb",
      "provenance": []
    }
  },
  "cells": [
    {
      "cell_type": "markdown",
      "metadata": {
        "id": "nX3hNeQwfI5O"
      },
      "source": [
        "## How much memory does Python 3 use to store variables?\n",
        "   by Robert Martin.  8/3/2019"
      ]
    },
    {
      "cell_type": "markdown",
      "metadata": {
        "id": "X6zimhGxfI5V"
      },
      "source": [
        "Case 1.   Integers\n",
        "\n",
        "For integers the answer is that it depends on the size of the integer.  Python 3 has variable precision for integers so the number of bytes required will be determined by the size of the integer."
      ]
    },
    {
      "cell_type": "code",
      "metadata": {
        "id": "NklZkALifI5W"
      },
      "source": [
        "import sys\n",
        "import numpy as np"
      ],
      "execution_count": 3,
      "outputs": []
    },
    {
      "cell_type": "code",
      "metadata": {
        "id": "h4uj3MKEfI5X"
      },
      "source": [
        "a = 0  # zero is a special case and  the answer is 24 bytes.  Most of these bytes are used for overhead."
      ],
      "execution_count": 2,
      "outputs": []
    },
    {
      "cell_type": "code",
      "metadata": {
        "id": "YUW283oZfI5X",
        "outputId": "bc1dce08-f9b8-4e33-d9f8-58a2ac26d9a6"
      },
      "source": [
        "sys.getsizeof(a)\n"
      ],
      "execution_count": null,
      "outputs": [
        {
          "output_type": "execute_result",
          "data": {
            "text/plain": [
              "24"
            ]
          },
          "metadata": {
            "tags": []
          },
          "execution_count": 4
        }
      ]
    },
    {
      "cell_type": "code",
      "metadata": {
        "id": "iXWggqA-fI5Y"
      },
      "source": [
        "b = 24601  # for this integer the answer is 28 bytes"
      ],
      "execution_count": null,
      "outputs": []
    },
    {
      "cell_type": "code",
      "metadata": {
        "id": "1oYRDb2IfI5Y",
        "outputId": "0fd1977a-f0e5-4000-a6dd-c2482a8db21e"
      },
      "source": [
        "sys.getsizeof(b) \n"
      ],
      "execution_count": null,
      "outputs": [
        {
          "output_type": "execute_result",
          "data": {
            "text/plain": [
              "28"
            ]
          },
          "metadata": {
            "tags": []
          },
          "execution_count": 31
        }
      ]
    },
    {
      "cell_type": "markdown",
      "metadata": {
        "id": "da6L0emUfI5Z"
      },
      "source": [
        "## Does this mean a list of 1000 integers will require 28,000 bytes?  No!"
      ]
    },
    {
      "cell_type": "code",
      "metadata": {
        "id": "gws-pkwofI5Z"
      },
      "source": [
        "c = list(range(1000))  \n",
        "d = list(range(10000))\n",
        "e = list(range(100000))"
      ],
      "execution_count": null,
      "outputs": []
    },
    {
      "cell_type": "code",
      "metadata": {
        "id": "0nzOsUOcfI5a",
        "outputId": "03675329-e9cb-43ba-fad0-85644b69a157"
      },
      "source": [
        "(sys.getsizeof(c),sys.getsizeof(d),sys.getsizeof(e))  # notice below an average of about 9 bytes per integer"
      ],
      "execution_count": null,
      "outputs": [
        {
          "output_type": "execute_result",
          "data": {
            "text/plain": [
              "(9112, 90112, 900112)"
            ]
          },
          "metadata": {
            "tags": []
          },
          "execution_count": 25
        }
      ]
    },
    {
      "cell_type": "markdown",
      "metadata": {
        "id": "gwRWvs8VfI5a"
      },
      "source": [
        "## The table below shows how the number of bytes required to store a single integer depends on the size of integer.  Below we see the number of bytes range from 28 to 44 bytes for the numbers given."
      ]
    },
    {
      "cell_type": "code",
      "metadata": {
        "id": "dxKymtqifI5a",
        "outputId": "4b976db6-d757-43a5-b313-4c1eb4401f95"
      },
      "source": [
        "print('{:<40}\\t\\t\\t{}\\n'.format('Integer','Number of Bytes'),end=\"\")\n",
        "print('-'*100)\n",
        "for k in [20,32,64,96,128]:\n",
        "    print('{:<40}\\t\\t\\t{}\\n'.format(2**k,sys.getsizeof(2**k)))"
      ],
      "execution_count": null,
      "outputs": [
        {
          "output_type": "stream",
          "text": [
            "Integer                                 \t\t\tNumber of Bytes\n",
            "----------------------------------------------------------------------------------------------------\n",
            "1048576                                 \t\t\t28\n",
            "\n",
            "4294967296                              \t\t\t32\n",
            "\n",
            "18446744073709551616                    \t\t\t36\n",
            "\n",
            "79228162514264337593543950336           \t\t\t40\n",
            "\n",
            "340282366920938463463374607431768211456 \t\t\t44\n",
            "\n"
          ],
          "name": "stdout"
        }
      ]
    },
    {
      "cell_type": "markdown",
      "metadata": {
        "id": "giBHiHpcfI5b"
      },
      "source": [
        "Case 2.  Floating point numbers or \"floats\". Floating point numbers require 24 bytes. Notice below that all the different floats require 24 bytes each. The 24 bytes for the float object consist of 8 bytes for a pointer, 8 bytes for a reference count and then finally 8 bytes for the actual double precsion number.\n"
      ]
    },
    {
      "cell_type": "code",
      "metadata": {
        "id": "ugVTvkehfI5b",
        "outputId": "b98b5db5-1818-41d6-c02c-92e1aab19314"
      },
      "source": [
        "print('{:<40}\\t\\t\\t{}\\n'.format('Integer','Number of Bytes'),end=\"\")\n",
        "print('-'*100)\n",
        "for k in [20.,32.,64.,96.,128.,200.]:\n",
        "    print('{:<40}\\t\\t\\t{}\\n'.format(2**k,sys.getsizeof(2**k)))"
      ],
      "execution_count": null,
      "outputs": [
        {
          "output_type": "stream",
          "text": [
            "Integer                                 \t\t\tNumber of Bytes\n",
            "----------------------------------------------------------------------------------------------------\n",
            "1048576.0                               \t\t\t24\n",
            "\n",
            "4294967296.0                            \t\t\t24\n",
            "\n",
            "1.8446744073709552e+19                  \t\t\t24\n",
            "\n",
            "7.922816251426434e+28                   \t\t\t24\n",
            "\n",
            "3.402823669209385e+38                   \t\t\t24\n",
            "\n",
            "1.6069380442589903e+60                  \t\t\t24\n",
            "\n"
          ],
          "name": "stdout"
        }
      ]
    },
    {
      "cell_type": "code",
      "metadata": {
        "id": "fi2m9MlMfI5b",
        "outputId": "9ae1a1a9-5ccf-4993-971d-8a4cd84d1526"
      },
      "source": [
        "sys.float_info.max  # the maximum value that can be representd by a double precision float is:"
      ],
      "execution_count": null,
      "outputs": [
        {
          "output_type": "execute_result",
          "data": {
            "text/plain": [
              "1.7976931348623157e+308"
            ]
          },
          "metadata": {
            "tags": []
          },
          "execution_count": 56
        }
      ]
    },
    {
      "cell_type": "markdown",
      "metadata": {
        "id": "TKUYlaK7fI5c"
      },
      "source": [
        "## To see how this maximum value is arrived at requires deciphering the IEEE standard please see: https://en.wikipedia.org/wiki/Double-precision_floating-point_format"
      ]
    },
    {
      "cell_type": "markdown",
      "metadata": {
        "id": "9IMwh6FWfI5c"
      },
      "source": [
        "<img src=\"https://github.com/rmartin977/Python-Code/blob/master/1280px-IEEE_754_Double_Floating_Point_Format.svg.png?raw=1\">"
      ]
    },
    {
      "cell_type": "markdown",
      "metadata": {
        "id": "oDLvRy8kfI5c"
      },
      "source": [
        "Case 3. Numpy integers.  These come in a variety of flavors:  uint8, int32, int64 etc. The memory requirement for each type is fixed. Type uint8 uses 8 bits and can hold integers between 0 and 255."
      ]
    },
    {
      "cell_type": "code",
      "metadata": {
        "id": "wZl4wlrTfI5c",
        "outputId": "569c2e39-83f4-4001-b6b5-67dbb0a1c718"
      },
      "source": [
        "i = np.uint8(22)  # declare an integer to be unsiged 8 bit\n",
        "i"
      ],
      "execution_count": null,
      "outputs": [
        {
          "output_type": "execute_result",
          "data": {
            "text/plain": [
              "22"
            ]
          },
          "metadata": {
            "tags": []
          },
          "execution_count": 67
        }
      ]
    },
    {
      "cell_type": "code",
      "metadata": {
        "id": "dE-c0a5rfI5d",
        "outputId": "9f1b3a00-2822-4d3f-c779-e3154de1f884"
      },
      "source": [
        "sys.getsizeof(i)  # 25 bytes to store this integer"
      ],
      "execution_count": null,
      "outputs": [
        {
          "output_type": "execute_result",
          "data": {
            "text/plain": [
              "25"
            ]
          },
          "metadata": {
            "tags": []
          },
          "execution_count": 65
        }
      ]
    },
    {
      "cell_type": "code",
      "metadata": {
        "id": "tonH8q8IfI5d",
        "outputId": "2da6a27a-f4cc-4090-c5bd-814b125ef4b7"
      },
      "source": [
        "i.nbytes   # The 'nbyes method shows the number of bytes to store the value ~ notice just 1 byte to store this value"
      ],
      "execution_count": null,
      "outputs": [
        {
          "output_type": "execute_result",
          "data": {
            "text/plain": [
              "1"
            ]
          },
          "metadata": {
            "tags": []
          },
          "execution_count": 66
        }
      ]
    },
    {
      "cell_type": "code",
      "metadata": {
        "id": "AuztXpLPfI5d",
        "outputId": "b90be663-fca8-4f11-c593-e17e37bbebeb"
      },
      "source": [
        "np.uint8(257)  # if you try to store an integer larger than 255 it will \"wrap aroung\"  257 becomes 257-256 =1"
      ],
      "execution_count": null,
      "outputs": [
        {
          "output_type": "execute_result",
          "data": {
            "text/plain": [
              "1"
            ]
          },
          "metadata": {
            "tags": []
          },
          "execution_count": 69
        }
      ]
    },
    {
      "cell_type": "code",
      "metadata": {
        "id": "fKv8txM9fI5e",
        "outputId": "3c6f8630-c420-452c-e71a-24f005965ff7"
      },
      "source": [
        "j = np.int64(22)\n",
        "j"
      ],
      "execution_count": null,
      "outputs": [
        {
          "output_type": "execute_result",
          "data": {
            "text/plain": [
              "22"
            ]
          },
          "metadata": {
            "tags": []
          },
          "execution_count": 71
        }
      ]
    },
    {
      "cell_type": "code",
      "metadata": {
        "id": "CV3QyGp_fI5e",
        "outputId": "dcc844a2-6a83-409d-aa1a-2ae4e5babb3d"
      },
      "source": [
        "j.nbytes  # notice that 64 bit integers require 8 bytes\n"
      ],
      "execution_count": null,
      "outputs": [
        {
          "output_type": "execute_result",
          "data": {
            "text/plain": [
              "8"
            ]
          },
          "metadata": {
            "tags": []
          },
          "execution_count": 73
        }
      ]
    },
    {
      "cell_type": "code",
      "metadata": {
        "id": "jkjuZNeifI5e",
        "outputId": "ab8dcc0d-2d2e-40ab-afe8-1885af96dd75"
      },
      "source": [
        "np.iinfo('int64') # notice below the range of values for int64"
      ],
      "execution_count": null,
      "outputs": [
        {
          "output_type": "execute_result",
          "data": {
            "text/plain": [
              "iinfo(min=-9223372036854775808, max=9223372036854775807, dtype=int64)"
            ]
          },
          "metadata": {
            "tags": []
          },
          "execution_count": 85
        }
      ]
    },
    {
      "cell_type": "code",
      "metadata": {
        "id": "A6Mm0bPRfI5e",
        "outputId": "9442f083-1385-4587-fa67-144fa96d4f13"
      },
      "source": [
        "k = np.int64(2**63-1)  # this explains where the max value comes from, remember 1 bit is used as the sign bit\n",
        "k"
      ],
      "execution_count": null,
      "outputs": [
        {
          "output_type": "execute_result",
          "data": {
            "text/plain": [
              "9223372036854775807"
            ]
          },
          "metadata": {
            "tags": []
          },
          "execution_count": 86
        }
      ]
    },
    {
      "cell_type": "markdown",
      "metadata": {
        "id": "L5Q_1bPBfI5f"
      },
      "source": [
        "Case 4.  Numpy floats"
      ]
    },
    {
      "cell_type": "code",
      "metadata": {
        "id": "rjyhShT9fI5f",
        "outputId": "187fd40e-ffe1-4da3-95cf-7bb618269c09"
      },
      "source": [
        "aa = np.float64(12.2) # declare a double precision float\n",
        "aa"
      ],
      "execution_count": null,
      "outputs": [
        {
          "output_type": "execute_result",
          "data": {
            "text/plain": [
              "12.2"
            ]
          },
          "metadata": {
            "tags": []
          },
          "execution_count": 106
        }
      ]
    },
    {
      "cell_type": "code",
      "metadata": {
        "id": "hEe6D3UIfI5f",
        "outputId": "3efe9883-fc3b-496e-bccc-707922da0d91"
      },
      "source": [
        "(sys.getsizeof(aa),aa.nbytes)  # numpy float 64 requires 32 bytes where 8 bytes for actual number. See IEEE above\n"
      ],
      "execution_count": null,
      "outputs": [
        {
          "output_type": "execute_result",
          "data": {
            "text/plain": [
              "(32, 8)"
            ]
          },
          "metadata": {
            "tags": []
          },
          "execution_count": 107
        }
      ]
    },
    {
      "cell_type": "code",
      "metadata": {
        "id": "PTnGIdxXfI5g",
        "outputId": "39045c80-8a60-463e-e947-bffd5a22724f"
      },
      "source": [
        "np.finfo('float64')  # compare max value for float64 to python 3 float.  Of courese they are the same both are double precision floats."
      ],
      "execution_count": null,
      "outputs": [
        {
          "output_type": "execute_result",
          "data": {
            "text/plain": [
              "finfo(resolution=1e-15, min=-1.7976931348623157e+308, max=1.7976931348623157e+308, dtype=float64)"
            ]
          },
          "metadata": {
            "tags": []
          },
          "execution_count": 97
        }
      ]
    },
    {
      "cell_type": "code",
      "metadata": {
        "id": "PML0OoyufI5g",
        "outputId": "0a64a004-7fc6-4c52-9411-7906161fc761"
      },
      "source": [
        "bb = np.float32(12.2)  # numpy gives the flexibility of using single precision floats\n",
        "bb\n"
      ],
      "execution_count": null,
      "outputs": [
        {
          "output_type": "execute_result",
          "data": {
            "text/plain": [
              "12.2"
            ]
          },
          "metadata": {
            "tags": []
          },
          "execution_count": 108
        }
      ]
    },
    {
      "cell_type": "code",
      "metadata": {
        "id": "uLx3rZmFfI5g",
        "outputId": "34977e88-185e-4f15-bb46-bdc6fc274844"
      },
      "source": [
        "(sys.getsizeof(bb),bb.nbytes)  # numpy float 32 requires 28 bytes where 4 bytes for actual number. \n"
      ],
      "execution_count": null,
      "outputs": [
        {
          "output_type": "execute_result",
          "data": {
            "text/plain": [
              "(28, 4)"
            ]
          },
          "metadata": {
            "tags": []
          },
          "execution_count": 103
        }
      ]
    },
    {
      "cell_type": "code",
      "metadata": {
        "id": "HlIyhUjcfI5g",
        "outputId": "a83eea88-9dfd-484d-fd7d-046953c52aeb"
      },
      "source": [
        "np.finfo('float32')  # compare max value for float64 to python 3 float.  Of courese they are the same both are double precision floats."
      ],
      "execution_count": null,
      "outputs": [
        {
          "output_type": "execute_result",
          "data": {
            "text/plain": [
              "finfo(resolution=1e-06, min=-3.4028235e+38, max=3.4028235e+38, dtype=float32)"
            ]
          },
          "metadata": {
            "tags": []
          },
          "execution_count": 105
        }
      ]
    },
    {
      "cell_type": "markdown",
      "metadata": {
        "id": "Tkh_S9t3fI5h"
      },
      "source": [
        "Case 4.  Strings.   Python has no character type.  Characters are represented by strings of length 1. Below we see a minimum requirement of 49 bytes and the the count increases accordingly.\n"
      ]
    },
    {
      "cell_type": "code",
      "metadata": {
        "id": "CZwu3sa_fI5h",
        "outputId": "76a95048-b078-4639-825b-9478c3db4cc6"
      },
      "source": [
        "s1 = ''\n",
        "print('0 characters requires {} bytes'.format(sys.getsizeof(s1)))\n",
        "s2 = 'a'\n",
        "print('1 characters requires {} bytes'.format(sys.getsizeof(s2)))\n",
        "s3 = 'ab'\n",
        "print('2 characters requires {} bytes'.format(sys.getsizeof(s3)))\n",
        "s4 = 'abc'\n",
        "print('3 characters requires {} bytes'.format(sys.getsizeof(s4)))"
      ],
      "execution_count": null,
      "outputs": [
        {
          "output_type": "stream",
          "text": [
            "0 characters requires 49 bytes\n",
            "1 characters requires 50 bytes\n",
            "2 characters requires 51 bytes\n",
            "3 characters requires 52 bytes\n"
          ],
          "name": "stdout"
        }
      ]
    }
  ]
}